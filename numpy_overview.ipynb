{
 "cells": [
  {
   "cell_type": "markdown",
   "id": "584db237-b8b4-4d97-a27b-adecd65e604f",
   "metadata": {},
   "source": [
    "# The Basics:\n",
    "NumPy's main object is the homogeneous multidimensional array. It is a table of elements (usually numbers), all of the same type, indexed by a tuple of non-negative integers. \n",
    "\n",
    "In NumPy dimensions are called axes.\n",
    "\n",
    "For example, the array for the coordinates of a point in a 3D space, `[1,2,1]`, has one axis. That axis has 3 elements in it, so we say it has a length of 3."
   ]
  },
  {
   "cell_type": "markdown",
   "id": "a922ea94-89de-4310-be03-bc5196a7a437",
   "metadata": {},
   "source": [
    "```\n",
    "[[1., 0., 0.],\n",
    "[0., 1., 2.]]\n",
    "```\n",
    "\n",
    "In the example above, the array has 2 axes.\n",
    "The first axis has a length of 2, the second axis has a length of 3.\n",
    "\n",
    "This is because the first axis corresponds to the rows. There are 2 rows, so the first axis has a length of 2.\n",
    "\n",
    "The second axis corresponds to the columns. Each row has 3 elements, so the second axis has a length of 3"
   ]
  },
  {
   "cell_type": "markdown",
   "id": "b0f77f9f-f662-4c62-b1d4-8254ed1f5504",
   "metadata": {},
   "source": [
    "NumPy's array class is called `ndarray`. It is also known by the alias `array`. Note that `numpy.array` is not the same as the Standard Python Library class `array.array`, which only handles one-dimensional arrays and offers less functionality.\n",
    "\n",
    "The more important attributes of an ndarry object are:\n",
    "- **ndarray.ndim**\n",
    "  - The number of axes (dimensions) of the array.\n",
    "- **ndarry.shape**\n",
    "  - The dimensions of the array. This is a tuple of integers indicating the size of the array in each dimension.\n",
    "  - For a matrix with *n* rows and *m* columns, `shape` will be `(n,m)`.\n",
    "      - The length of the `shape` tuple is therefore the number of axes, `ndim`.\n",
    "- **ndarray.size**\n",
    "  - The total number of elements of the array.\n",
    "  - This is equal to the product of the elements of `shape`.\n",
    "- **ndarray.dtype**\n",
    "  - An object describing the type of the elements in the array. One can create or specify dtype's using standard Python types. Additionally NumPy provides types of its own. numpy.int32, numpy.int16, and numpy.float64 are some examples.\n",
    "- **ndarray.itemsize**\n",
    "  - The size in bytes of each element of the array.\n",
    "  - For example, an array of elements of type `float64` has `itemsize` 8(=64/8), while one of type `complex32` has `itemsize` 4=(32/8). It is equivalent to `ndarray.dtype.itemsize`.\n",
    "- **ndarray.data**\n",
    "  - The buffer containing the actual elements of the array.\n",
    "  - Normally, we won't need to use this attribute because we will access the elements in an array using indexing facilities.\n"
   ]
  },
  {
   "cell_type": "markdown",
   "id": "fca81c16-6310-4443-946f-075900a3d289",
   "metadata": {},
   "source": [
    "## An example"
   ]
  },
  {
   "cell_type": "code",
   "execution_count": 1,
   "id": "9d2aef79-c376-4f09-a022-53c7739670e2",
   "metadata": {},
   "outputs": [
    {
     "name": "stdout",
     "output_type": "stream",
     "text": [
      "Array A:\n",
      "[[ 0  1  2  3  4]\n",
      " [ 5  6  7  8  9]\n",
      " [10 11 12 13 14]]\n",
      "\n",
      "Array A Shape: (3, 5) \n",
      "\n",
      "Array A Dimensions: 2 \n",
      "\n",
      "Type of the elements in array A: int64 \n",
      "\n",
      "The size in bytes of each element in array A (itemsize): 8 \n",
      "\n",
      "The total number of elements in array A (size): 15 \n",
      "\n",
      "The type of array A: <class 'numpy.ndarray'> \n",
      "\n",
      "Array B:\n",
      "[6 7 8]\n",
      "\n",
      "The type of array B: <class 'numpy.ndarray'>\n"
     ]
    }
   ],
   "source": [
    "import numpy as np\n",
    "\n",
    "a = np.arange(15).reshape(3, 5)\n",
    "\n",
    "print(f'Array A:\\n{a}\\n')\n",
    "\n",
    "print(f'Array A Shape: {a.shape} \\n') # The dimensions of the array. A tuple of integers indicating the size of the array in each dimension.\n",
    "\n",
    "print(f'Array A Dimensions: {a.ndim} \\n')\n",
    "\n",
    "print(f'Type of the elements in array A: {a.dtype.name} \\n')\n",
    "\n",
    "print(f'The size in bytes of each element in array A (itemsize): {a.itemsize} \\n')\n",
    "\n",
    "print(f'The total number of elements in array A (size): {a.size} \\n')\n",
    "\n",
    "print(f'The type of array A: {type(a)} \\n')\n",
    "\n",
    "b = np.array([6, 7, 8])\n",
    "\n",
    "print(f'Array B:\\n{b}\\n')\n",
    "\n",
    "print(f'The type of array B: {type(b)}')\n",
    "\n"
   ]
  },
  {
   "cell_type": "markdown",
   "id": "5becb763-05a2-4187-8de6-76f49dc8595c",
   "metadata": {},
   "source": [
    "## Array creation"
   ]
  },
  {
   "cell_type": "markdown",
   "id": "f9ac8b23-66f4-4fde-a920-5ab59a15bd1c",
   "metadata": {},
   "source": [
    "There are several ways to create arrays.\n",
    "\n",
    "For example, you can create an array from a regular Python list or tuple using the `array` function. The type of the resulting array is deduced from the type of the elements in the sequences."
   ]
  },
  {
   "cell_type": "code",
   "execution_count": 2,
   "id": "b95c464c-7a0f-4fb0-9ba1-eacb10d07c71",
   "metadata": {},
   "outputs": [
    {
     "name": "stdout",
     "output_type": "stream",
     "text": [
      "Array A:\n",
      "[2 3 4]\n",
      "\n",
      "Type of the elements in array A: int64 \n",
      "\n",
      "Array B:\n",
      "[1.2 3.5 5.1]\n",
      "\n",
      "Type of the elements in array B: float64 \n",
      "\n"
     ]
    }
   ],
   "source": [
    "import numpy as np\n",
    "a = np.array([2,3,4])\n",
    "\n",
    "print(f'Array A:\\n{a}\\n')\n",
    "\n",
    "print(f'Type of the elements in array A: {a.dtype} \\n')\n",
    "\n",
    "b = np.array([1.2, 3.5, 5.1])\n",
    "\n",
    "print(f'Array B:\\n{b}\\n')\n",
    "\n",
    "print(f'Type of the elements in array B: {b.dtype} \\n')"
   ]
  }
 ],
 "metadata": {
  "kernelspec": {
   "display_name": "Python 3 (ipykernel)",
   "language": "python",
   "name": "python3"
  },
  "language_info": {
   "codemirror_mode": {
    "name": "ipython",
    "version": 3
   },
   "file_extension": ".py",
   "mimetype": "text/x-python",
   "name": "python",
   "nbconvert_exporter": "python",
   "pygments_lexer": "ipython3",
   "version": "3.13.5"
  }
 },
 "nbformat": 4,
 "nbformat_minor": 5
}
